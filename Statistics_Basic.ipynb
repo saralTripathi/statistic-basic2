{
  "nbformat": 4,
  "nbformat_minor": 0,
  "metadata": {
    "colab": {
      "provenance": []
    },
    "kernelspec": {
      "name": "python3",
      "display_name": "Python 3"
    },
    "language_info": {
      "name": "python"
    }
  },
  "cells": [
    {
      "cell_type": "markdown",
      "source": [
        "1. What is statistics, and why is it important\n",
        "\n",
        "   - Statistics is the science of collecting, organizing, analyzing, interpreting, and presenting data to make informed decisions.\n",
        "\n",
        "    Statistics transforms raw data into meaningful insights, making it indispensable in science, business, and daily decision-making. Without it, we’d rely on guesswork rather than evidence.\n",
        "\n",
        "2.  What are the two main types of statistics?\n",
        "\n",
        "     -  Descriptive Statistics\n",
        "\n",
        "     - Inferential Statistics\n",
        "3.  What are descriptive statistics?\n",
        "\n",
        "    -  Summarizing and describing data (e.g., mean, median, graphs).\n",
        "\n",
        "4. What is inferential statistics?\n",
        "    -  Drawing conclusions about a population based on sample data (e.g., hypothesis testing, confidence intervals).\n",
        "\n",
        "\n",
        " 5. What is sampling in statistics?\n",
        "     -  Sampling is the process of selecting a subset (called a sample) from a larger population to make statistical inferences about the whole group. Since studying an entire population is often impractical (due to time, cost, or size constraints), sampling allows researchers to draw conclusions efficiently.\n",
        "\n",
        " 6. What are the different types of sampling methods?\n",
        "      - 1. simple random sampling\n",
        "        2. stratified sampling\n",
        "        3. cluster sampling\n",
        "        4. systematic sampling\n",
        " 7. What is the difference between random and non-random sampling?\n",
        "    - Random = Fair, scientific, generalizable.\n",
        "\n",
        "    -  Non-random = Fast, easy, but potentially biased.\n",
        "\n",
        " 8.  Define and give examples of qualitative and quantitative data?\n",
        "       -  Qualitative → Describes what (words, themes).\n",
        "\n",
        "         Quantitative → Measures how much (numbers, stats).\n",
        "\n",
        "        -   Example in Research:\n",
        "\n",
        "         Qualitative: \"Patients reported feeling less pain after therapy.\"\n",
        "\n",
        "         Quantitative: \"Pain scores decreased from 7.2 to 3.5 on a 10-point scale\n",
        "\n",
        "\n",
        "  9. What are the different types of data in statistics?\n",
        "        -  In statistics, data is broadly classified into two main types: Qualitative (Categorical) and Quantitative (Numerical). Each type has further subcategories, which are essential for choosing the right statistical analysis method.\n",
        "\n",
        "  10.  Explain nominal, ordinal, interval, and ratio levels of measurement.\n",
        "        - 1. Nominal\n",
        "\n",
        "               No order, just categories.\n",
        "\n",
        "              Example: Gender, Colors.\n",
        "\n",
        "              Stats: Mode only.\n",
        "\n",
        "          2. Ordinal\n",
        "\n",
        "               Order matters, but gaps unequal.\n",
        "\n",
        "               Example: Education level (High School < PhD).\n",
        "\n",
        "               Stats: Mode, Median.\n",
        "\n",
        "         3. Interval\n",
        "\n",
        "               Equal gaps, but no true zero.\n",
        "\n",
        "               Example: Temperature (°C), IQ scores.\n",
        "\n",
        "               Stats: Mean, SD (but no ratios).\n",
        "\n",
        "         4.  Ratio\n",
        "\n",
        "             True zero, ratios make sense.\n",
        "\n",
        "             Example: Height, Weight, Income.\n",
        "\n",
        "            Stats: All math ops (+, −, ×, ÷).\n",
        "\n",
        "      11. What is the measure of central tendency?\n",
        "          -   Measures of central tendency summarize data by identifying the central or typical value in a dataset. The three main types are:\n",
        "            1.  mean\n",
        "            2.  median\n",
        "            3.  mode\n",
        "      12.  Define mean, median, and mode\n",
        "            -  1. mean - Calculated by summing all values and dividing by the number of values.\n",
        "\n",
        "                Formula:\n",
        "Mean\n",
        "=\n",
        "∑\n",
        "X/\n",
        "n\n",
        "\n",
        "                 Best for: Interval/Ratio data (e.g., average salary, test scores).\n",
        "\n",
        "              2. Median (Middle Value)- The middle number in an ordered dataset.\n",
        "      \n",
        "                 Best for: Ordinal data or skewed distributions (e.g., income, house prices).\n",
        "\n",
        "             3.   Mode (Most Frequent Value)-The value that appears most often.\n",
        "\n",
        "                  Best for: Nominal data (e.g., favorite color, brand preference)\n",
        "\n",
        "      13.  What is the significance of the measure of central tendency?\n",
        "           -  Central tendency measures turn raw data into actionable insights, helping us:\n",
        "\n",
        "                 ✔ Summarize large datasets.\n",
        "\n",
        "                ✔ Compare groups.\n",
        "\n",
        "                ✔ Detect anomalies (e.g., outliers).\n",
        "\n",
        "                ✔ Make data-driven decisions.\n",
        "\n",
        "      14. What is variance, and how is it calculated?\n",
        "           -  Variance measures how far a set of numbers are spread out from their mean (average). It quantifies data variability—higher variance means data points are more scattered.\n",
        "\n",
        "           step1 = Sum all data points, divide by number of points\n",
        "\n",
        "           step2 = Squaring removes negative values and emphasizes larger deviations\n",
        "           \n",
        "           step3 = Divide by sample size minus 1 (\n",
        "n\n",
        "−\n",
        "1\n",
        "), to correct bias\n",
        "  \n",
        "    15. What is standard deviation, and why is it important?\n",
        "        -   Standard Deviation (SD) measures how spread out numbers are in a dataset. It’s the square root of the variance and is expressed in the same units as the original data (unlike variance, which uses squared units).\n",
        "\n",
        "        Standard deviation is a powerful tool to:\n",
        "\n",
        "          ✔ Quantify uncertainty and variability.\n",
        "\n",
        "          ✔ Make data-driven decisions in science, business, and engineering.\n",
        "\n",
        "           ✔ Identify outliers (e.g., data beyond ±2 SD).\n",
        "\n",
        "    16. Define and explain the term range in statistics.\n",
        "        - The range is the simplest measure of dispersion (spread) in a dataset. It represents the difference between the highest (maximum) and lowest (minimum) values.\n",
        "\n",
        "            Range\n",
        "=\n",
        "Maximum Value\n",
        "−\n",
        "Minimum Value\n",
        "\n",
        "    17. What is the difference between variance and standard deviation?\n",
        "        -   Variance:\n",
        "\n",
        "            Preferred in calculations (e.g., regression, probability theory).\n",
        "\n",
        "            Used when mathematical properties matter (e.g., variance is additive).\n",
        "\n",
        "            Variance is a mathematical tool.\n",
        "\n",
        "        -  Standard Deviation:\n",
        "\n",
        "             Used for interpretation (e.g., \"Heights vary by ±5 cm\").\n",
        "\n",
        "              Common in descriptive statistics and risk assessment (e.g., finance, quality control).\n",
        "\n",
        "              Standard deviation is a practical tool.\n",
        "\n",
        "      18. What is skewness in a dataset?\n",
        "          -  Skewness measures the asymmetry of a dataset’s distribution. It tells you whether the data is lopsided (leaning left or right) compared to a symmetric bell curve (normal distribution).\n",
        "          \n",
        "             Skewness reveals which way your data leans and whether you need to adjust your analysis. Always check skewness before choosing statistical methods!\n",
        "\n",
        "      19. What does it mean if a dataset is positively or negatively skewed?\n",
        "          - 1. Positively Skewed (Right-Skewed) Distribution:\n",
        "\n",
        "              📈 Definition: The right tail of the distribution is longer, meaning more values are concentrated on the left, with a few large values pulling the mean to the right.\n",
        "\n",
        "              🔹 Mean > Median > Mode\n",
        "\n",
        "               🔹 Example: Income distribution—most people earn moderate salaries, but a few earn extremely high amounts, pulling the average up.\n",
        "\n",
        "          2.  Negatively Skewed (Left-Skewed) Distribution\n",
        "\n",
        "            📉 Definition: The left tail is longer, meaning more values are concentrated on the right, with a few small values pulling the mean to the left.\n",
        "\n",
        "              🔹 Mean < Median < Mode\n",
        "\n",
        "               🔹 Example: Test scores where most students score high, but a few very low scores pull the average down.\n",
        "\n",
        "      20.   Define and explain kurtosis.\n",
        "             -  Kurtosis is a statistical measure that describes the shape of a distribution's tails in relation to its peak. It helps determine whether a dataset has more or fewer extreme values (outliers) compared to a normal distribution.\n",
        "\n",
        "      21.  What is the purpose of covariance?\n",
        "           -  Covariance measures the direction of the relationship between two variables—whether they move together (positive covariance) or in opposite directions (negative covariance).\n",
        "          \n",
        "              - If covariance > 0, both variables increase or decrease together (positive relationship).\n",
        "\n",
        "              - If covariance < 0, one variable increases while the other decreases (negative relationship).\n",
        "\n",
        "              - If covariance = 0, no relationship exists between the variables.\n",
        "      22.  What does correlation measure in statistics?\n",
        "          -  Correlation measures the strength and direction of a relationship between two variables. It tells us how changes in one variable are associated with changes in another.\n",
        "\n",
        "      23. What is the difference between covariance and correlation?\n",
        "          -   Covariance indicates only direction (positive or negative), while correlation indicates both direction and strength.\n",
        "\n",
        "         - Correlation is a normalized version of covariance, making it easier to interpret.\n",
        "\n",
        "         -  Correlation values are always between -1 and 1, while covariance values depend on the scale of the data.\n",
        "    24.  What are some real-world applications of statistics?\n",
        "         - 1.Business & Finance\n",
        "           2. Healthcare & Medicine\n",
        "            3.  Government & Public Polic\n",
        "            4. Sports Analyti\n",
        "            5. Educatio\n",
        "            6. Technology & Machine Learning\n",
        "            7. Environmental Science\n",
        "            8. Manufacturing & Quality Control\n"
      ],
      "metadata": {
        "id": "BIz-49DmBFYd"
      }
    },
    {
      "cell_type": "code",
      "source": [
        "#1.How do you calculate the mean, median, and mode of a dataset\n",
        "import statistics\n",
        "\n",
        "# Sample dataset\n",
        "data = [4, 8, 6, 5, 10, 8, 6]\n",
        "\n",
        "# Calculate Mean\n",
        "mean_value = sum(data) / len(data)\n",
        "\n",
        "# Calculate Median\n",
        "median_value = statistics.median(data)\n",
        "\n",
        "# Calculate Mode\n",
        "try:\n",
        "    mode_value = statistics.mode(data)\n",
        "except statistics.StatisticsError:\n",
        "    mode_value = \"No mode (all values appear equally)\"\n",
        "\n",
        "# Display Results\n",
        "print(f\"Mean: {mean_value}\")\n",
        "print(f\"Median: {median_value}\")\n",
        "print(f\"Mode: {mode_value}\")\n"
      ],
      "metadata": {
        "colab": {
          "base_uri": "https://localhost:8080/"
        },
        "id": "BfkDMGw6BFBB",
        "outputId": "c1bc4a0a-cdca-4dc2-e3a5-ebabf80fcbd3"
      },
      "execution_count": null,
      "outputs": [
        {
          "output_type": "stream",
          "name": "stdout",
          "text": [
            "Mean: 6.714285714285714\n",
            "Median: 6\n",
            "Mode: 8\n"
          ]
        }
      ]
    },
    {
      "cell_type": "code",
      "execution_count": null,
      "metadata": {
        "colab": {
          "base_uri": "https://localhost:8080/"
        },
        "id": "_OPDsiyIA8Oj",
        "outputId": "b59341fa-b6e9-45fc-b589-b3c73bc40b1b"
      },
      "outputs": [
        {
          "output_type": "stream",
          "name": "stdout",
          "text": [
            "variance is : 3.6326530612244894\n",
            "standard deviation is : 1.9059520091609048\n"
          ]
        }
      ],
      "source": [
        "#2. Write a Python program to compute the variance and standard deviation of a dataset\n",
        "import numpy as np\n",
        "import pandas as pd\n",
        "import matplotlib.pyplot as plt\n",
        "import seaborn as sns\n",
        "\n",
        "data = [4, 8, 6, 5, 10, 8, 6]\n",
        "v = np.var(data)\n",
        "\n",
        "std = np.std(data)\n",
        "print(\"variance is :\",v)\n",
        "print(\"standard deviation is :\" , std)\n"
      ]
    },
    {
      "cell_type": "code",
      "source": [
        "#3. Create a dataset and classify it into nominal, ordinal, interval, and ratio types\n",
        "\n",
        "dataset = {\n",
        "    \"Nominal\": [\"Red\", \"Blue\", \"Green\", \"Yellow\"],\n",
        "    \"Ordinal\": [\"Poor\", \"Average\", \"Good\", \"Excellent\"],\n",
        "    \"Interval\": [-10, 0, 10, 20, 30],\n",
        "    \"Ratio\": [5, 10, 20, 40, 80]\n",
        "}\n",
        "\n",
        "# Print dataset classification\n",
        "for key, values in dataset.items():\n",
        "    print(f\"{key} Data: {values}\")\n"
      ],
      "metadata": {
        "colab": {
          "base_uri": "https://localhost:8080/"
        },
        "id": "OZ2W9G9eSM7u",
        "outputId": "69b211c6-adfe-4e49-a82c-83e4fe9a0608"
      },
      "execution_count": null,
      "outputs": [
        {
          "output_type": "stream",
          "name": "stdout",
          "text": [
            "Nominal Data: ['Red', 'Blue', 'Green', 'Yellow']\n",
            "Ordinal Data: ['Poor', 'Average', 'Good', 'Excellent']\n",
            "Interval Data: [-10, 0, 10, 20, 30]\n",
            "Ratio Data: [5, 10, 20, 40, 80]\n"
          ]
        }
      ]
    },
    {
      "cell_type": "code",
      "source": [
        "#4. Implement sampling techniques like random sampling and stratified sampling.\n",
        "import pandas as pd\n",
        "\n",
        "\n",
        "data = pd.DataFrame({\n",
        "    'id': range(1, 101),\n",
        "    'value': np.random.randint(1, 100, 100)\n",
        "})\n",
        "\n",
        "\n",
        "random_sample = data.sample(n=10, random_state=42)\n",
        "print(random_sample)\n",
        "\n",
        "\n",
        "from sklearn.model_selection import train_test_split\n",
        "\n",
        "\n",
        "data['category'] = np.random.choice(['A', 'B', 'C'], size=100)\n",
        "\n",
        "\n",
        "stratified_sample, _ = train_test_split(\n",
        "    data,\n",
        "    test_size=0.8,\n",
        "    stratify=data['category'],\n",
        "    random_state=42\n",
        ")\n",
        "print(stratified_sample['category'].value_counts(normalize=True))"
      ],
      "metadata": {
        "colab": {
          "base_uri": "https://localhost:8080/"
        },
        "id": "aDTKCtmwTNYV",
        "outputId": "b46ed537-b8fe-4c54-9f95-ff3b3c66121b"
      },
      "execution_count": null,
      "outputs": [
        {
          "output_type": "stream",
          "name": "stdout",
          "text": [
            "    id  value\n",
            "83  84     20\n",
            "53  54      2\n",
            "70  71     35\n",
            "45  46     51\n",
            "44  45     63\n",
            "39  40      8\n",
            "22  23      9\n",
            "80  81     20\n",
            "10  11     44\n",
            "0    1     95\n",
            "category\n",
            "C    0.35\n",
            "B    0.35\n",
            "A    0.30\n",
            "Name: proportion, dtype: float64\n"
          ]
        }
      ]
    },
    {
      "cell_type": "code",
      "source": [
        "#5. Write a Python function to calculate the range of a dataset.\n",
        "import numpy as np\n",
        "data = [4, 8, 6, 5, 10, 8, 6]\n",
        "def calculate_range(data):\n",
        "    data_range = np.max(data) - np.min(data)\n",
        "    return data_range\n",
        "calculate_range(data)\n"
      ],
      "metadata": {
        "colab": {
          "base_uri": "https://localhost:8080/"
        },
        "id": "KwFIPcHzTsAG",
        "outputId": "1aa8602b-aa0a-48f0-e1ae-9ab8e5bfb2a0"
      },
      "execution_count": null,
      "outputs": [
        {
          "output_type": "execute_result",
          "data": {
            "text/plain": [
              "np.int64(6)"
            ]
          },
          "metadata": {},
          "execution_count": 13
        }
      ]
    },
    {
      "cell_type": "code",
      "source": [
        "#6.Create a dataset and plot its histogram to visualize skewness.\n",
        "np.random.seed(42)\n",
        "data = np.random.normal(0, 1, 1000)\n",
        "\n",
        "sns.histplot(data, kde=True)\n",
        "plt.title(\"Histogram of Data\")\n",
        "plt.xlabel(\"Value\")\n",
        "plt.ylabel(\"Frequency\")\n",
        "plt.show()"
      ],
      "metadata": {
        "colab": {
          "base_uri": "https://localhost:8080/",
          "height": 472
        },
        "id": "j-KbPnbwUP1x",
        "outputId": "1305d370-5225-45ef-c283-7909d970ce0e"
      },
      "execution_count": null,
      "outputs": [
        {
          "output_type": "display_data",
          "data": {
            "text/plain": [
              "<Figure size 640x480 with 1 Axes>"
            ],
            "image/png": "[encoded data removed]"
          },
          "metadata": {}
        }
      ]
    },
    {
      "cell_type": "code",
      "source": [
        "#7.Calculate skewness and kurtosis of a dataset using Python libraries.\n",
        "import scipy.stats as stats\n",
        "data = [4, 8, 6, 5, 10, 8, 6]\n",
        "skewness = stats.skew(data)\n",
        "kurtosis = stats.kurtosis(data)\n",
        "print(\"Skewness:\", skewness)\n",
        "print(\"Kurtosis:\", kurtosis)"
      ],
      "metadata": {
        "colab": {
          "base_uri": "https://localhost:8080/"
        },
        "id": "sYIVWEISVNKi",
        "outputId": "baa2b9cf-bb00-4a7d-aeeb-914805801bd7"
      },
      "execution_count": null,
      "outputs": [
        {
          "output_type": "stream",
          "name": "stdout",
          "text": [
            "Skewness: 0.28802228947930825\n",
            "Kurtosis: -0.9923620754955178\n"
          ]
        }
      ]
    },
    {
      "cell_type": "code",
      "source": [
        "#8.Generate a dataset and demonstrate positive and negative skewness.\n",
        "import numpy as np\n",
        "import matplotlib.pyplot as plt\n",
        "import seaborn as sns\n",
        "np.random.seed(42)\n",
        "data = np.random.normal(0, 1, 1000)\n",
        "sns.histplot(data, kde=True)\n",
        "plt.title(\"Histogram of Data\")\n",
        "plt.xlabel(\"Value\")\n",
        "plt.ylabel(\"Frequency\")\n",
        "plt.show()\n",
        "\n"
      ],
      "metadata": {
        "colab": {
          "base_uri": "https://localhost:8080/",
          "height": 472
        },
        "id": "TLg2xMX1VgJm",
        "outputId": "26ad7a14-bc35-42fa-ed6c-cc4541a616cc"
      },
      "execution_count": null,
      "outputs": [
        {
          "output_type": "display_data",
          "data": {
            "text/plain": [
              "<Figure size 640x480 with 1 Axes>"
            ],
            "image/png": "[encoded data removed]"
          },
          "metadata": {}
        }
      ]
    },
    {
      "cell_type": "code",
      "source": [
        "#9.  Write a Python script to calculate covariance between two datasets.\n",
        "import numpy as np\n",
        "data1 = [1, 2, 3, 4, 5]\n",
        "data2 = [5, 4, 3, 2, 1]\n",
        "covariance = np.cov(data1, data2)\n",
        "covariance"
      ],
      "metadata": {
        "colab": {
          "base_uri": "https://localhost:8080/"
        },
        "id": "Pvcd_RnUVsUW",
        "outputId": "3409a259-6055-4646-ba8b-ec89d27642a6"
      },
      "execution_count": null,
      "outputs": [
        {
          "output_type": "execute_result",
          "data": {
            "text/plain": [
              "array([[ 2.5, -2.5],\n",
              "       [-2.5,  2.5]])"
            ]
          },
          "metadata": {},
          "execution_count": 21
        }
      ]
    },
    {
      "cell_type": "code",
      "source": [
        "#10.Write a Python script to calculate the correlation coefficient between two datasets\n",
        "import numpy as np\n",
        "data1 = [1, 2, 3, 4, 5]\n",
        "data2 = [5, 4, 3, 2, 1]\n",
        "correlation_coefficient = np.corrcoef(data1, data2)\n",
        "correlation_coefficient"
      ],
      "metadata": {
        "id": "am0d0mXrWNhZ",
        "colab": {
          "base_uri": "https://localhost:8080/"
        },
        "outputId": "3f98d024-96c1-4d9d-e9a8-bdbf6f432fe1"
      },
      "execution_count": 1,
      "outputs": [
        {
          "output_type": "execute_result",
          "data": {
            "text/plain": [
              "array([[ 1., -1.],\n",
              "       [-1.,  1.]])"
            ]
          },
          "metadata": {},
          "execution_count": 1
        }
      ]
    },
    {
      "cell_type": "code",
      "source": [
        "#11.Create a scatter plot to visualize the relationship between two variables\n",
        "import numpy as np\n",
        "import matplotlib.pyplot as plt\n",
        "np.random.seed(42)\n",
        "data1 = np.random.rand(100)\n",
        "data2 = np.random.rand(100)\n",
        "plt.scatter(data1, data2)"
      ],
      "metadata": {
        "colab": {
          "base_uri": "https://localhost:8080/",
          "height": 448
        },
        "id": "c42ZNHAotj49",
        "outputId": "016b4e44-ed6d-484a-d913-a1a7f90fecb0"
      },
      "execution_count": 4,
      "outputs": [
        {
          "output_type": "execute_result",
          "data": {
            "text/plain": [
              "<matplotlib.collections.PathCollection at 0x7c1054140b50>"
            ]
          },
          "metadata": {},
          "execution_count": 4
        },
        {
          "output_type": "display_data",
          "data": {
            "text/plain": [
              "<Figure size 640x480 with 1 Axes>"
            ],
            "image/png": "[encoded data removed]"
          },
          "metadata": {}
        }
      ]
    },
    {
      "cell_type": "code",
      "source": [
        "#12. Implement and compare simple random sampling and systematic sampling.\n",
        "import pandas as pd\n",
        "data = pd.DataFrame({\n",
        "    'id': range(1, 101),\n",
        "    'value': np.random.randint(1, 100, 100)\n",
        "})\n",
        "random_sample = data.sample(n=10, random_state=42)\n",
        "print(random_sample)\n",
        "\n"
      ],
      "metadata": {
        "colab": {
          "base_uri": "https://localhost:8080/"
        },
        "id": "1-Jtor9ju0Y8",
        "outputId": "1351e877-49df-40da-e518-b5f3511342e7"
      },
      "execution_count": 5,
      "outputs": [
        {
          "output_type": "stream",
          "name": "stdout",
          "text": [
            "    id  value\n",
            "83  84     95\n",
            "53  54     19\n",
            "70  71     53\n",
            "45  46     30\n",
            "44  45     21\n",
            "39  40     54\n",
            "22  23     14\n",
            "80  81     67\n",
            "10  11     93\n",
            "0    1     24\n"
          ]
        }
      ]
    },
    {
      "cell_type": "code",
      "source": [
        "#13.Calculate the mean, median, and mode of grouped data.\n",
        "import pandas as pd\n",
        "data = {\n",
        "    'Group': ['A', 'A', 'B', 'B', 'B', 'C', 'C', 'C', 'C'],\n",
        "    'Value': [10, 15,11,34,23,21,2,56,6]}\n",
        "\n",
        "df = pd.DataFrame(data)\n",
        "grouped_mean = df.groupby('Group')['Value'].mean()\n",
        "grouped_median = df.groupby('Group')['Value'].median()\n",
        "#grouped_mode = df.groupby('Group')['Value'].agg(pd.Series.mode)\n",
        "print(grouped_mean)\n",
        "print(grouped_median)\n",
        "#print(grouped_mode)\n",
        ""
      ],
      "metadata": {
        "colab": {
          "base_uri": "https://localhost:8080/"
        },
        "id": "AHiBLs2_vhZ5",
        "outputId": "7de20fe1-8daa-4b53-e91e-c7b0509b8dce"
      },
      "execution_count": 9,
      "outputs": [
        {
          "output_type": "stream",
          "name": "stdout",
          "text": [
            "Group\n",
            "A    12.500000\n",
            "B    22.666667\n",
            "C    21.250000\n",
            "Name: Value, dtype: float64\n",
            "Group\n",
            "A    12.5\n",
            "B    23.0\n",
            "C    13.5\n",
            "Name: Value, dtype: float64\n"
          ]
        }
      ]
    },
    {
      "cell_type": "code",
      "source": [
        "#14. Simulate data using Python and calculate its central tendency and dispersion.\n",
        "import pandas as pd\n",
        "import numpy as np\n",
        "np.random.seed(42)\n",
        "data = {\n",
        "    'Value': np.random.randint(1, 101, 100)\n",
        "}\n",
        "df = pd.DataFrame(data)\n",
        "mean_value = df['Value'].mean()\n",
        "median_value = df['Value'].median()\n",
        "std_value = df['Value'].std()\n",
        "print(f\"Mean: {mean_value}\")\n",
        "print(f\"Median: {median_value}\")\n",
        "print(f\"Standard Deviation: {std_value}\")\n"
      ],
      "metadata": {
        "colab": {
          "base_uri": "https://localhost:8080/"
        },
        "id": "UQE1JyRRwyvE",
        "outputId": "091c9677-477e-4d12-ef2f-611d744d2d07"
      },
      "execution_count": 14,
      "outputs": [
        {
          "output_type": "stream",
          "name": "stdout",
          "text": [
            "Mean: 51.54\n",
            "Median: 54.0\n",
            "Standard Deviation: 29.42596256245959\n"
          ]
        }
      ]
    },
    {
      "cell_type": "code",
      "source": [
        "#15. Use NumPy or pandas to summarize a dataset’s descriptive statistics\n",
        "import pandas as pd\n",
        "data = {\n",
        "    'Group': ['A', 'A', 'B',\n",
        "              'B', 'B', 'C', 'C', 'C', 'C'],\n",
        "    'Value': [10, 15, 11, 34, 23, 21, 2, 56, 6]\n",
        "}\n",
        "df = pd.DataFrame(data)\n",
        "grouped_stats = df.groupby('Group')['Value'].describe()\n",
        "print(grouped_stats)\n",
        "\n"
      ],
      "metadata": {
        "colab": {
          "base_uri": "https://localhost:8080/"
        },
        "id": "tVs3QfQJzEQv",
        "outputId": "c85c4270-380a-449d-9bc5-c3312f7e6df9"
      },
      "execution_count": 18,
      "outputs": [
        {
          "output_type": "stream",
          "name": "stdout",
          "text": [
            "       count       mean        std   min    25%   50%    75%   max\n",
            "Group                                                             \n",
            "A        2.0  12.500000   3.535534  10.0  11.25  12.5  13.75  15.0\n",
            "B        3.0  22.666667  11.503623  11.0  17.00  23.0  28.50  34.0\n",
            "C        4.0  21.250000  24.567933   2.0   5.00  13.5  29.75  56.0\n"
          ]
        }
      ]
    },
    {
      "cell_type": "code",
      "source": [
        "#16. Plot a boxplot to understand the spread and identify outliers\n",
        "data = [10, 15, 11, 34, 23, 21, 2, 56, 6]\n",
        "import matplotlib.pyplot as plt\n",
        "import seaborn as sns\n",
        "sns.boxplot(data)\n",
        "plt.show()"
      ],
      "metadata": {
        "colab": {
          "base_uri": "https://localhost:8080/",
          "height": 411
        },
        "id": "xyb7ZyYzDZCz",
        "outputId": "1f8a948f-6eca-43d9-ff17-b24b2dfc2b20"
      },
      "execution_count": 19,
      "outputs": [
        {
          "output_type": "display_data",
          "data": {
            "text/plain": [
              "<Figure size 640x480 with 1 Axes>"
            ],
            "image/png": "[encoded data removed]"
          },
          "metadata": {}
        }
      ]
    },
    {
      "cell_type": "code",
      "source": [
        "#17. Calculate the interquartile range (IQR) of a dataset\n",
        "import numpy as np\n",
        "data = [10, 15, 11, 34, 23, 21, 2, 56, 6]\n",
        "q1 = np.percentile(data, 25)\n",
        "q3 = np.percentile(data, 75)\n",
        "iqr = q3 - q1\n",
        "iqr\n"
      ],
      "metadata": {
        "colab": {
          "base_uri": "https://localhost:8080/"
        },
        "id": "ioudh1W4D79t",
        "outputId": "59111295-d663-4e53-c25b-728a8b7cc3ff"
      },
      "execution_count": 20,
      "outputs": [
        {
          "output_type": "execute_result",
          "data": {
            "text/plain": [
              "np.float64(13.0)"
            ]
          },
          "metadata": {},
          "execution_count": 20
        }
      ]
    },
    {
      "cell_type": "code",
      "source": [
        "#18. Implement Z-score normalization and explain its significance\n",
        "import numpy as np\n",
        "data = [10, 15, 11, 34, 23, 21, 2, 56, 6]\n",
        "z_scores = (data - np.mean(data)) / np.std(data)\n",
        "z_scores\n"
      ],
      "metadata": {
        "colab": {
          "base_uri": "https://localhost:8080/"
        },
        "id": "RiAXqmC2ERsy",
        "outputId": "84218007-e454-4edd-d6a0-ac4597b495be"
      },
      "execution_count": 21,
      "outputs": [
        {
          "output_type": "execute_result",
          "data": {
            "text/plain": [
              "array([-0.6215086 , -0.3036917 , -0.55794522,  0.90401252,  0.20481534,\n",
              "        0.07768858, -1.13001564,  2.30240687, -0.87576212])"
            ]
          },
          "metadata": {},
          "execution_count": 21
        }
      ]
    },
    {
      "cell_type": "code",
      "source": [
        "#19. Compare two datasets using their standard deviations\n",
        "import numpy as np\n",
        "data1 = [10, 15, 11, 34, 23, 21, 2, 56, 6]\n",
        "data2 = [10, 15,\n",
        "         11, 34, 23, 21, 2, 56, 6]\n",
        "std1 = np.std(data1)\n",
        "std2 = np.std(data2)\n",
        "std1 > std2\n",
        "\n"
      ],
      "metadata": {
        "colab": {
          "base_uri": "https://localhost:8080/"
        },
        "id": "dFHX6WyrEq8Y",
        "outputId": "3aa1aa90-2f14-460f-95cb-7b717dae468b"
      },
      "execution_count": 22,
      "outputs": [
        {
          "output_type": "execute_result",
          "data": {
            "text/plain": [
              "np.False_"
            ]
          },
          "metadata": {},
          "execution_count": 22
        }
      ]
    },
    {
      "cell_type": "code",
      "source": [
        "#20. Write a Python program to visualize covariance using a heatmap\n",
        "import numpy as np\n",
        "import seaborn as sns\n",
        "import matplotlib.pyplot as plt\n",
        "data1 = [10, 15, 11, 34, 23, 21, 2, 56, 6]\n",
        "data2 = [10, 15, 11, 34, 23, 21, 2, 56, 6]\n",
        "covariance_matrix = np.cov(data1, data2)\n",
        "sns.heatmap(covariance_matrix, annot=True, cmap='coolwarm')\n",
        "plt.title(\"Covariance Heatmap\")\n",
        "plt.show()\n"
      ],
      "metadata": {
        "colab": {
          "base_uri": "https://localhost:8080/",
          "height": 452
        },
        "id": "iHpagjRvFD3X",
        "outputId": "527afbad-8771-447d-dade-9409fca84095"
      },
      "execution_count": 23,
      "outputs": [
        {
          "output_type": "display_data",
          "data": {
            "text/plain": [
              "<Figure size 640x480 with 2 Axes>"
            ],
            "image/png": "[encoded data removed]"
          },
          "metadata": {}
        }
      ]
    },
    {
      "cell_type": "code",
      "source": [
        "#21. Use seaborn to create a correlation matrix for a dataset\n",
        "import seaborn as sns\n",
        "import matplotlib.pyplot as plt\n",
        "import pandas as pd\n",
        "data =[10, 15,11, 34, 23, 21, 2, 56, 6]\n",
        "\n",
        "df = pd.DataFrame(data)\n",
        "correlation_matrix = df.corr()\n",
        "sns.heatmap(correlation_matrix, annot=True, cmap='coolwarm')\n",
        "plt.title(\"Correlation Matrix\")\n",
        "plt.show()\n",
        "\n"
      ],
      "metadata": {
        "colab": {
          "base_uri": "https://localhost:8080/",
          "height": 452
        },
        "id": "g2hGKVbFF24x",
        "outputId": "74a79bf8-7645-43fe-bb5b-50e64834b374"
      },
      "execution_count": 28,
      "outputs": [
        {
          "output_type": "display_data",
          "data": {
            "text/plain": [
              "<Figure size 640x480 with 2 Axes>"
            ],
            "image/png": "[encoded data removed]"
          },
          "metadata": {}
        }
      ]
    },
    {
      "cell_type": "code",
      "source": [
        "#22.  Generate a dataset and implement both variance and standard deviation computations\n",
        "import numpy as np\n",
        "data = [10, 15, 11, 34, 23, 21, 2, 56, 6]\n",
        "variance = np.var(data)\n",
        "std_deviation = np.std(data)\n",
        "print(\"Variance is :\",variance)\n",
        "print(\"Standard deviation is :\",std_deviation)\n"
      ],
      "metadata": {
        "colab": {
          "base_uri": "https://localhost:8080/"
        },
        "id": "3nPKK7EfGif0",
        "outputId": "cb2e5dd5-cd99-43ca-a6c6-d543a8838d21"
      },
      "execution_count": 30,
      "outputs": [
        {
          "output_type": "stream",
          "name": "stdout",
          "text": [
            "Variance is : 247.50617283950618\n",
            "Standard deviation is : 15.732328907046984\n"
          ]
        }
      ]
    },
    {
      "cell_type": "code",
      "source": [
        "#23.  Visualize skewness and kurtosis using Python libraries like matplotlib or seaborn\n",
        "import numpy as np\n",
        "import matplotlib.pyplot as plt\n",
        "data = [10, 15, 11, 34, 23, 21, 2, 56, 6]\n",
        "plt.hist(data, bins=5, edgecolor='black')\n",
        "plt.title(\"Histogram of Data\")\n",
        "plt.xlabel(\"Value\")\n",
        "plt.ylabel(\"Frequency\")\n",
        "plt.show()\n"
      ],
      "metadata": {
        "colab": {
          "base_uri": "https://localhost:8080/",
          "height": 472
        },
        "id": "-EwYjmobHWZ-",
        "outputId": "ac062682-a71b-45f1-c763-4a22b22b108c"
      },
      "execution_count": 32,
      "outputs": [
        {
          "output_type": "display_data",
          "data": {
            "text/plain": [
              "<Figure size 640x480 with 1 Axes>"
            ],
            "image/png": "[encoded data removed]"
          },
          "metadata": {}
        }
      ]
    },
    {
      "cell_type": "code",
      "source": [
        "#24. Implement the Pearson and Spearman correlation coefficients for a dataset.\n",
        "import numpy as np\n",
        "data1 = [10, 15, 11, 34, 23, 21, 2, 56, 6]\n",
        "data2 = [10, 15, 11, 34, 23, 21, 2, 56, 6]\n",
        "pearson_correlation = np.corrcoef(data1, data2)\n",
        "spearman_correlation = np.corrcoef(data1, data2)\n",
        "print(\"Pearson Correlation:\", pearson_correlation)\n",
        "print(\"Spearman Correlation:\", spearman_correlation)\n"
      ],
      "metadata": {
        "colab": {
          "base_uri": "https://localhost:8080/"
        },
        "id": "OwDyLLWRHzry",
        "outputId": "48f93aac-a65a-4d9d-aa0f-eec02c4c1104"
      },
      "execution_count": 36,
      "outputs": [
        {
          "output_type": "stream",
          "name": "stdout",
          "text": [
            "Pearson Correlation: [[1. 1.]\n",
            " [1. 1.]]\n",
            "Spearman Correlation: [[1. 1.]\n",
            " [1. 1.]]\n"
          ]
        }
      ]
    },
    {
      "cell_type": "code",
      "source": [],
      "metadata": {
        "id": "9hawsbcWIYZG"
      },
      "execution_count": null,
      "outputs": []
    }
  ]
}